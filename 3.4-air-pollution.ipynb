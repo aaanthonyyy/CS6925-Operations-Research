{
 "cells": [
  {
   "cell_type": "markdown",
   "id": "c19549d6",
   "metadata": {},
   "source": [
    "Formulation as a Linear Programming Problem. This problem has six decision\n",
    "variables $x_j, j = 1, 2, . . . , 6$, each representing the use of one of the three abatement methods for one of the two types of furnaces, expressed as a fraction of the abatement capacity(so $x_j$ cannot exceed 1). The ordering of these variables is shown in Table 3.15. Because the objective is to minimize total cost while satisfying the emission reduction requirements, the data in Tables 3.12, 3.13, and 3.14 yield the following model:\n",
    "\n",
    "$$Minimize: Z = 8x_1 + 10x_2 + 7x_3 + 6x_4 + 11x_5 + 9x_6 ,$$\n",
    "\n"
   ]
  },
  {
   "cell_type": "code",
   "execution_count": 70,
   "id": "543f296f",
   "metadata": {},
   "outputs": [
    {
     "data": {
      "text/plain": [
       "6-element Vector{VariableRef}:\n",
       " x[1]\n",
       " x[2]\n",
       " x[3]\n",
       " x[4]\n",
       " x[5]\n",
       " x[6]"
      ]
     },
     "metadata": {},
     "output_type": "display_data"
    }
   ],
   "source": [
    "using JuMP\n",
    "using HiGHS\n",
    "\n",
    "model = Model(HiGHS.Optimizer)\n",
    "\n",
    "@variable(model, x[1:6] >= 0)"
   ]
  },
  {
   "cell_type": "code",
   "execution_count": 71,
   "id": "8e7d92f5",
   "metadata": {},
   "outputs": [
    {
     "data": {
      "text/latex": [
       "$ 8 x_{1} + 10 x_{2} + 7 x_{3} + 6 x_{4} + 11 x_{5} + 9 x_{6} $"
      ],
      "text/plain": [
       "8 x[1] + 10 x[2] + 7 x[3] + 6 x[4] + 11 x[5] + 9 x[6]"
      ]
     },
     "metadata": {},
     "output_type": "display_data"
    }
   ],
   "source": [
    "# Need to minimize objective function\n",
    "@objective(model, Min, 8x[1] + 10x[2] + 7x[3] + 6x[4] + 11x[5] + 9x[6])"
   ]
  },
  {
   "cell_type": "code",
   "execution_count": 72,
   "id": "91e7f25e",
   "metadata": {},
   "outputs": [
    {
     "data": {
      "text/plain": [
       "6-element Vector{ConstraintRef{Model, MathOptInterface.ConstraintIndex{MathOptInterface.ScalarAffineFunction{Float64}, MathOptInterface.LessThan{Float64}}, ScalarShape}}:\n",
       " x[1] ≤ 1\n",
       " x[2] ≤ 1\n",
       " x[3] ≤ 1\n",
       " x[4] ≤ 1\n",
       " x[5] ≤ 1\n",
       " x[6] ≤ 1"
      ]
     },
     "metadata": {},
     "output_type": "display_data"
    }
   ],
   "source": [
    "# Emission Reduction Constraints\n",
    "emissions_constraints = [12 9   25 20 17 13;\n",
    "                         35 42  18 31 56 49;\n",
    "                         37 53  28 24 29 20]\n",
    "\n",
    "@constraint(model, emissions_constraints * x >= [60, 150, 125])\n",
    "@constraint(model, x[1:6] .<= 1)"
   ]
  },
  {
   "cell_type": "code",
   "execution_count": 73,
   "id": "3ce95885",
   "metadata": {},
   "outputs": [
    {
     "data": {
      "text/latex": [
       "$$ \\begin{aligned}\n",
       "\\min\\quad & 8 x_{1} + 10 x_{2} + 7 x_{3} + 6 x_{4} + 11 x_{5} + 9 x_{6}\\\\\n",
       "\\text{Subject to} \\quad & x_{1} \\leq 1\\\\\n",
       " & x_{2} \\leq 1\\\\\n",
       " & x_{3} \\leq 1\\\\\n",
       " & x_{4} \\leq 1\\\\\n",
       " & x_{5} \\leq 1\\\\\n",
       " & x_{6} \\leq 1\\\\\n",
       " & [12 x_{1} + 9 x_{2} + 25 x_{3} + 20 x_{4} + 17 x_{5} + 13 x_{6} - 60, 35 x_{1} + 42 x_{2} + 18 x_{3} + 31 x_{4} + 56 x_{5} + 49 x_{6} - 150, 37 x_{1} + 53 x_{2} + 28 x_{3} + 24 x_{4} + 29 x_{5} + 20 x_{6} - 125] \\in \\text{Nonnegatives()}\\\\\n",
       " & x_{1} \\geq 0\\\\\n",
       " & x_{2} \\geq 0\\\\\n",
       " & x_{3} \\geq 0\\\\\n",
       " & x_{4} \\geq 0\\\\\n",
       " & x_{5} \\geq 0\\\\\n",
       " & x_{6} \\geq 0\\\\\n",
       "\\end{aligned} $$"
      ],
      "text/plain": [
       "$$ \\begin{aligned}\n",
       "\\min\\quad & 8 x_{1} + 10 x_{2} + 7 x_{3} + 6 x_{4} + 11 x_{5} + 9 x_{6}\\\\\n",
       "\\text{Subject to} \\quad & x_{1} \\leq 1\\\\\n",
       " & x_{2} \\leq 1\\\\\n",
       " & x_{3} \\leq 1\\\\\n",
       " & x_{4} \\leq 1\\\\\n",
       " & x_{5} \\leq 1\\\\\n",
       " & x_{6} \\leq 1\\\\\n",
       " & [12 x_{1} + 9 x_{2} + 25 x_{3} + 20 x_{4} + 17 x_{5} + 13 x_{6} - 60, 35 x_{1} + 42 x_{2} + 18 x_{3} + 31 x_{4} + 56 x_{5} + 49 x_{6} - 150, 37 x_{1} + 53 x_{2} + 28 x_{3} + 24 x_{4} + 29 x_{5} + 20 x_{6} - 125] \\in \\text{Nonnegatives()}\\\\\n",
       " & x_{1} \\geq 0\\\\\n",
       " & x_{2} \\geq 0\\\\\n",
       " & x_{3} \\geq 0\\\\\n",
       " & x_{4} \\geq 0\\\\\n",
       " & x_{5} \\geq 0\\\\\n",
       " & x_{6} \\geq 0\\\\\n",
       "\\end{aligned} $$"
      ]
     },
     "metadata": {},
     "output_type": "display_data"
    }
   ],
   "source": [
    "latex_formulation(model)"
   ]
  },
  {
   "cell_type": "code",
   "execution_count": 74,
   "id": "8b020d1a",
   "metadata": {},
   "outputs": [
    {
     "name": "stdout",
     "output_type": "stream",
     "text": [
      "Running HiGHS 1.11.0 (git hash: 364c83a51e): Copyright (c) 2025 HiGHS under MIT licence terms\n",
      "LP   has 9 rows; 6 cols; 24 nonzeros\n",
      "Coefficient ranges:\n",
      "  Matrix [1e+00, 6e+01]\n",
      "  Cost   [6e+00, 1e+01]\n",
      "  Bound  [0e+00, 0e+00]\n",
      "  RHS    [1e+00, 2e+02]\n",
      "Presolving model\n",
      "3 rows, 6 cols, 18 nonzeros  0s\n",
      "3 rows, 6 cols, 18 nonzeros  0s\n",
      "Presolve : Reductions: rows 3(-6); columns 6(-0); elements 18(-6)\n",
      "Solving the presolved LP\n",
      "Using EKK dual simplex solver - serial\n",
      "  Iteration        Objective     Infeasibilities num(sum)\n",
      "          0     0.0000000000e+00 Pr: 3(395) 0s\n",
      "          4     3.2154631330e+01 Pr: 0(0) 0s\n",
      "Solving the original LP from the solution after postsolve\n",
      "Model status        : Optimal\n",
      "Simplex   iterations: 4\n",
      "Objective value     :  3.2154631330e+01\n",
      "P-D objective error :  0.0000000000e+00\n",
      "HiGHS run time      :          0.00\n"
     ]
    }
   ],
   "source": [
    "# Minimize!\n",
    "optimize!(model)"
   ]
  },
  {
   "cell_type": "code",
   "execution_count": 76,
   "id": "805d6935",
   "metadata": {},
   "outputs": [
    {
     "data": {
      "text/plain": [
       "solution_summary(; result = 1, verbose = true)\n",
       "├ solver_name          : HiGHS\n",
       "├ Termination\n",
       "│ ├ termination_status : OPTIMAL\n",
       "│ ├ result_count       : 1\n",
       "│ ├ raw_status         : kHighsModelStatusOptimal\n",
       "│ └ objective_bound    : 3.21546e+01\n",
       "├ Solution (result = 1)\n",
       "│ ├ primal_status        : FEASIBLE_POINT\n",
       "│ ├ dual_status          : FEASIBLE_POINT\n",
       "│ ├ objective_value      : 3.21546e+01\n",
       "│ ├ dual_objective_value : 3.21546e+01\n",
       "│ ├ relative_gap         : 0.00000e+00\n",
       "│ └ value\n",
       "│   ├ x[1] : 1.00000e+00\n",
       "│   ├ x[2] : 6.22697e-01\n",
       "│   ├ x[3] : 3.43479e-01\n",
       "│   ├ x[4] : 1.00000e+00\n",
       "│   ├ x[5] : 4.75728e-02\n",
       "│   └ x[6] : 1.00000e+00\n",
       "└ Work counters\n",
       "  ├ solve_time (sec)   : 5.05834e-04\n",
       "  ├ simplex_iterations : 4\n",
       "  ├ barrier_iterations : 0\n",
       "  └ node_count         : -1"
      ]
     },
     "metadata": {},
     "output_type": "display_data"
    }
   ],
   "source": [
    "solution_summary(model, verbose=true)"
   ]
  }
 ],
 "metadata": {
  "kernelspec": {
   "display_name": "Julia 1.11.7",
   "language": "julia",
   "name": "julia-1.11"
  },
  "language_info": {
   "file_extension": ".jl",
   "mimetype": "application/julia",
   "name": "julia",
   "version": "1.11.7"
  }
 },
 "nbformat": 4,
 "nbformat_minor": 5
}
