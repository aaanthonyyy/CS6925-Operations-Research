{
 "cells": [
  {
   "cell_type": "markdown",
   "id": "d60106a5",
   "metadata": {},
   "source": [
    "## 3.4 Regional Planning\n",
    "The SOUTHERN CONFEDERATION OF KIBBUTZIM is a group of three kibbutzim (communal farming communities) in Israel. Overall planning for this group is done in its Coordinating Technical Office. This office currently is planning agricultural production for the coming year.\n",
    "\n",
    "The agricultural output of each kibbutz is limited by both the amount of available irrigable land and the quantity of water allocated for irrigation by the Water Commissioner (a national government official). These data are given in Table 3.8. The crops suited for this region include sugar beets, cotton, and sorghum, and these are the three being considered for the upcoming season. These crops differ primarily in their expected net return per acre and their consumption of water. In addition, the Ministry of Agriculture has set a maximum quota for the total acreage that can be devoted to each of these crops by the Southern Confederation of Kibbutzim, as shown in Table 3.9.\n",
    "\n",
    "---\n",
    "\n",
    " **Formulation as a Linear Programming Problem**\n",
    "\n",
    "The quantities to be decided upon are the number of acres to devote to each of the three crops at each of the three kibbutzim. The decision variables $x_j$ (j = 1, 2, . . . , 9) represent these nine quantities.\n",
    "\n",
    "Since the measure of effectiveness $Z$ is the total net return, the resulting linear programming model for this problem is:\n",
    "\n",
    "**Maximize**\n",
    "$$Z = 1,000(x_1 + x_2 + x_3) + 750(x_4 + x_5 + x_6) + 250$$\n",
    "\n",
    "\n",
    "**TABLE 3.10 Decision variables for the Southern Confederation of Kibbutzim problem**\n",
    "\n",
    "| Crop | Kibbutz 1 | Kibbutz 2 | Kibbutz 3 | Net Return | Max Output | Water Consumption |\n",
    "| :--- | :---: | :---: | :---: | :---: | :---: | :---: |\n",
    "| Sugar beets | $x_1$ | $x_2$ | $x_3$ | $1,000$ | 600 | 3 |\n",
    "| Cotton | $x_4$ | $x_5$ | $x_6$ | $750$ | 500 | 2 |\n",
    "| Sorghum | $x_7$ | $x_8$ | $x_9$ | $250$ | 325 | 1 |\n",
    "|---|\n",
    "| Water Allocation | 600 | 800 | 350 |\n",
    "| Usable Land | 400 | 600 | 300 |\n",
    "\n"
   ]
  },
  {
   "cell_type": "code",
   "execution_count": 10,
   "id": "80df949f",
   "metadata": {},
   "outputs": [
    {
     "data": {
      "text/plain": [
       "9-element Vector{VariableRef}:\n",
       " x[1]\n",
       " x[2]\n",
       " x[3]\n",
       " x[4]\n",
       " x[5]\n",
       " x[6]\n",
       " x[7]\n",
       " x[8]\n",
       " x[9]"
      ]
     },
     "metadata": {},
     "output_type": "display_data"
    }
   ],
   "source": [
    "using JuMP, GLPK\n",
    "\n",
    "model = Model(GLPK.Optimizer)\n",
    "\n",
    "@variable(model, x[1:9] >= 0)"
   ]
  },
  {
   "cell_type": "code",
   "execution_count": 11,
   "id": "8f9f0085",
   "metadata": {},
   "outputs": [
    {
     "data": {
      "text/latex": [
       "$ 1000 x_{1} + 1000 x_{2} + 1000 x_{3} + 750 x_{4} + 750 x_{5} + 750 x_{6} + 250 x_{7} + 250 x_{8} + 250 x_{9} $"
      ],
      "text/plain": [
       "1000 x[1] + 1000 x[2] + 1000 x[3] + 750 x[4] + 750 x[5] + 750 x[6] + 250 x[7] + 250 x[8] + 250 x[9]"
      ]
     },
     "metadata": {},
     "output_type": "display_data"
    }
   ],
   "source": [
    "# We want to maximize the total net return\n",
    "@objective(model, Max, 1000 * (x[1] + x[2] + x[3]) + 750 * (x[4] + x[5] + x[6]) + 250 * (x[7] + x[8] + x[9]))"
   ]
  },
  {
   "cell_type": "code",
   "execution_count": 12,
   "id": "3a616bf1",
   "metadata": {},
   "outputs": [
    {
     "data": {
      "text/latex": [
       "$$ x_{7} + x_{8} + x_{9} \\leq 325 $$"
      ],
      "text/plain": [
       "x[7] + x[8] + x[9] ≤ 325"
      ]
     },
     "metadata": {},
     "output_type": "display_data"
    }
   ],
   "source": [
    "# Constraints for water allocation for each kibbutz\n",
    "@constraint(model, 3 * x[1] + 2 * x[4] + 1 * x[7] <= 600) # Kibbutz 1\n",
    "@constraint(model, 3 * x[2] + 2 * x[5] + 1 * x[8] <= 800) # Kibbutz 2\n",
    "@constraint(model, 3 * x[3] + 2 * x[6] + 1 * x[9] <= 375) # Kibbutz 3\n",
    "\n",
    "# Constraints for usable land\n",
    "@constraint(model, x[1] + x[4] + x[7] <= 400) # Kibbutz 1\n",
    "@constraint(model, x[2] + x[5] + x[8] <= 600) # Kibbutz 2\n",
    "@constraint(model, x[3] + x[6] + x[9] <= 300) # Kibbutz 3\n",
    "\n",
    "# Maximum output for each crop\n",
    "@constraint(model, x[1] + x[2] + x[3] <= 600)\n",
    "@constraint(model, x[4] + x[5] + x[6] <= 500)\n",
    "@constraint(model, x[7] + x[8] + x[9] <= 325)"
   ]
  },
  {
   "cell_type": "code",
   "execution_count": 13,
   "id": "2e378d91",
   "metadata": {},
   "outputs": [
    {
     "data": {
      "text/latex": [
       "$$ -3 x_{1} + 4 x_{3} - 3 x_{4} + 4 x_{6} - 3 x_{7} + 4 x_{9} = 0 $$"
      ],
      "text/plain": [
       "-3 x[1] + 4 x[3] - 3 x[4] + 4 x[6] - 3 x[7] + 4 x[9] = 0"
      ]
     },
     "metadata": {},
     "output_type": "display_data"
    }
   ],
   "source": [
    "# Since proportion of each crop is 1:1:1, we can use the following constraint\n",
    "@constraint(model, 3*(x[1] + x[4] + x[7]) - 2*(x[2] + x[5] + x[8]) == 0)\n",
    "@constraint(model, 1*(x[2] + x[5] + x[8]) - 2*(x[3] + x[6] + x[9]) == 0)\n",
    "@constraint(model, 4*(x[3] + x[6] + x[9]) - 3*(x[1] + x[4] + x[7]) == 0)"
   ]
  },
  {
   "cell_type": "code",
   "execution_count": 14,
   "id": "5b26c32f",
   "metadata": {},
   "outputs": [
    {
     "name": "stdout",
     "output_type": "stream",
     "text": [
      "Objective: MAX_SENSE 1000 x[1] + 1000 x[2] + 1000 x[3] + 750 x[4] + 750 x[5] + 750 x[6] + 250 x[7] + 250 x[8] + 250 x[9]\n",
      "------------------------------\n",
      "Constraints:\n"
     ]
    },
    {
     "ename": "UndefKeywordError",
     "evalue": "UndefKeywordError: keyword argument `include_variable_in_set_constraints` not assigned",
     "output_type": "error",
     "traceback": [
      "UndefKeywordError: keyword argument `include_variable_in_set_constraints` not assigned\n",
      "\n",
      "Stacktrace:\n",
      " [1] all_constraints(model::Model)\n",
      "   @ JuMP ~/.julia/packages/JuMP/N7h14/src/constraints.jl:1773\n",
      " [2] top-level scope\n",
      "   @ ~/Documents/Data Science/Operations Research/JuliaLang/jl_notebook_cell_df34fa98e69747e1a8f8a730347b8e2f_X12sZmlsZQ==.jl:7"
     ]
    }
   ],
   "source": [
    "# Print the objective\n",
    "println(\"Objective: \", objective_sense(model), \" \", objective_function(model))\n",
    "println(\"-\"^30) # A separator line\n",
    "\n",
    "# Print each constraint on a new line\n",
    "println(\"Constraints:\")\n",
    "for con_ref in all_constraints(model)\n",
    "    println(\"  \", name(con_ref), \": \", constraint_object(con_ref))\n",
    "end"
   ]
  },
  {
   "cell_type": "code",
   "execution_count": 15,
   "id": "6bc411a7",
   "metadata": {},
   "outputs": [
    {
     "name": "stdout",
     "output_type": "stream",
     "text": [
      "Optimal solution: 633333.3333333333\n",
      "\n",
      "x[1] = 133.33333333333331\n",
      "x[2] = 100.0\n",
      "x[3] = 25.0\n",
      "x[4] = 100.00000000000001\n",
      "x[5] = 250.0\n",
      "x[6] = 150.0\n",
      "x[7] = 0.0\n",
      "x[8] = 0.0\n",
      "x[9] = 0.0\n"
     ]
    }
   ],
   "source": [
    "# Finally, we solve the model\n",
    "optimize!(model)\n",
    "\n",
    "println(\"Optimal solution: $(objective_value(model))\\n\")\n",
    "\n",
    "# Preview the results\n",
    "for i in 1:9\n",
    "    println(\"x[$i] = \", value(x[i]))\n",
    "end"
   ]
  },
  {
   "cell_type": "code",
   "execution_count": 16,
   "id": "6ce82217",
   "metadata": {},
   "outputs": [
    {
     "name": "stdout",
     "output_type": "stream",
     "text": [
      "Max Z = 633333.3333333333\n"
     ]
    }
   ],
   "source": [
    "max_z = objective_value(model)\n",
    "println(\"Max Z = \", max_z)"
   ]
  }
 ],
 "metadata": {
  "kernelspec": {
   "display_name": "Julia 1.11.7",
   "language": "julia",
   "name": "julia-1.11"
  },
  "language_info": {
   "file_extension": ".jl",
   "mimetype": "application/julia",
   "name": "julia",
   "version": "1.11.7"
  }
 },
 "nbformat": 4,
 "nbformat_minor": 5
}
