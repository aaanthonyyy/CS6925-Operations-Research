{
 "cells": [
  {
   "cell_type": "markdown",
   "id": "d60106a5",
   "metadata": {},
   "source": [
    "## 3.4 Regional Planning\n",
    "The SOUTHERN CONFEDERATION OF KIBBUTZIM is a group of three kibbutzim (communal farming communities) in Israel. Overall planning for this group is done in its Coordinating Technical Office. This office currently is planning agricultural production for the coming year.\n",
    "\n",
    "The agricultural output of each kibbutz is limited by both the amount of available irrigable land and the quantity of water allocated for irrigation by the Water Commissioner (a national government official). These data are given in Table 3.8. The crops suited for this region include sugar beets, cotton, and sorghum, and these are the three being considered for the upcoming season. These crops differ primarily in their expected net return per acre and their consumption of water. In addition, the Ministry of Agriculture has set a maximum quota for the total acreage that can be devoted to each of these crops by the Southern Confederation of Kibbutzim, as shown in Table 3.9.\n",
    "\n",
    "---\n",
    "\n",
    " **Formulation as a Linear Programming Problem**\n",
    "\n",
    "The quantities to be decided upon are the number of acres to devote to each of the three crops at each of the three kibbutzim. The decision variables $x_j$ (j = 1, 2, . . . , 9) represent these nine quantities.\n",
    "\n",
    "Since the measure of effectiveness $Z$ is the total net return, the resulting linear programming model for this problem is:\n",
    "\n",
    "**Maximize**\n",
    "$$Z = 1,000(x_1 + x_2 + x_3) + 750(x_4 + x_5 + x_6) + 250$$\n",
    "\n",
    "\n",
    "**TABLE 3.10 Decision variables for the Southern Confederation of Kibbutzim problem**\n",
    "\n",
    "| Crop | Kibbutz 1 | Kibbutz 2 | Kibbutz 3 | Net Return | Max Output | Water Consumption |\n",
    "| :--- | :---: | :---: | :---: | :---: | :---: | :---: |\n",
    "| Sugar beets | $x_1$ | $x_2$ | $x_3$ | $1,000$ | 600 | 3 |\n",
    "| Cotton | $x_4$ | $x_5$ | $x_6$ | $750$ | 500 | 2 |\n",
    "| Sorghum | $x_7$ | $x_8$ | $x_9$ | $250$ | 325 | 1 |\n",
    "| Water Allocation | 600 | 800 | 350 |\n",
    "| Usable Land | 400 | 600 | 300 |\n",
    "\n"
   ]
  },
  {
   "cell_type": "code",
   "execution_count": 46,
   "id": "80df949f",
   "metadata": {},
   "outputs": [],
   "source": [
    "using JuMP, HiGHS\n",
    "\n",
    "model = Model(HiGHS.Optimizer)\n",
    "\n",
    "@variable(model, x[1:9] >= 0);"
   ]
  },
  {
   "cell_type": "code",
   "execution_count": 47,
   "id": "8f9f0085",
   "metadata": {},
   "outputs": [],
   "source": [
    "# We want to maximize the total net return\n",
    "@objective(model, Max, 1000 * (x[1] + x[2] + x[3]) + 750 * (x[4] + x[5] + x[6]) + 250 * (x[7] + x[8] + x[9]));"
   ]
  },
  {
   "cell_type": "code",
   "execution_count": 48,
   "id": "3a616bf1",
   "metadata": {},
   "outputs": [],
   "source": [
    "# Constraints for water allocation for each kibbutz\n",
    "@constraint(model, 3 * x[1] + 2 * x[4] + 1 * x[7] <= 600) # Kibbutz 1\n",
    "@constraint(model, 3 * x[2] + 2 * x[5] + 1 * x[8] <= 800) # Kibbutz 2\n",
    "@constraint(model, 3 * x[3] + 2 * x[6] + 1 * x[9] <= 375) # Kibbutz 3\n",
    "\n",
    "# Constraints for usable land\n",
    "@constraint(model, x[1] + x[4] + x[7] <= 400) # Kibbutz 1\n",
    "@constraint(model, x[2] + x[5] + x[8] <= 600) # Kibbutz 2\n",
    "@constraint(model, x[3] + x[6] + x[9] <= 300) # Kibbutz 3\n",
    "\n",
    "# Maximum output for each crop\n",
    "@constraint(model, x[1] + x[2] + x[3] <= 600)\n",
    "@constraint(model, x[4] + x[5] + x[6] <= 500)\n",
    "@constraint(model, x[7] + x[8] + x[9] <= 325);"
   ]
  },
  {
   "cell_type": "code",
   "execution_count": 49,
   "id": "2e378d91",
   "metadata": {},
   "outputs": [],
   "source": [
    "# Since proportion of each crop is 1:1:1, we can use the following constraint\n",
    "@constraint(model, 3*(x[1] + x[4] + x[7]) - 2*(x[2] + x[5] + x[8]) == 0)\n",
    "@constraint(model, 1*(x[2] + x[5] + x[8]) - 2*(x[3] + x[6] + x[9]) == 0)\n",
    "@constraint(model, 4*(x[3] + x[6] + x[9]) - 3*(x[1] + x[4] + x[7]) == 0);"
   ]
  },
  {
   "cell_type": "code",
   "execution_count": 50,
   "id": "c8e47702",
   "metadata": {},
   "outputs": [
    {
     "data": {
      "text/latex": [
       "$$ \\begin{aligned}\n",
       "\\max\\quad & 1000 x_{1} + 1000 x_{2} + 1000 x_{3} + 750 x_{4} + 750 x_{5} + 750 x_{6} + 250 x_{7} + 250 x_{8} + 250 x_{9}\\\\\n",
       "\\text{Subject to} \\quad & 3 x_{1} - 2 x_{2} + 3 x_{4} - 2 x_{5} + 3 x_{7} - 2 x_{8} = 0\\\\\n",
       " & x_{2} - 2 x_{3} + x_{5} - 2 x_{6} + x_{8} - 2 x_{9} = 0\\\\\n",
       " & -3 x_{1} + 4 x_{3} - 3 x_{4} + 4 x_{6} - 3 x_{7} + 4 x_{9} = 0\\\\\n",
       " & 3 x_{1} + 2 x_{4} + x_{7} \\leq 600\\\\\n",
       " & 3 x_{2} + 2 x_{5} + x_{8} \\leq 800\\\\\n",
       " & 3 x_{3} + 2 x_{6} + x_{9} \\leq 375\\\\\n",
       " & x_{1} + x_{4} + x_{7} \\leq 400\\\\\n",
       " & x_{2} + x_{5} + x_{8} \\leq 600\\\\\n",
       " & x_{3} + x_{6} + x_{9} \\leq 300\\\\\n",
       " & x_{1} + x_{2} + x_{3} \\leq 600\\\\\n",
       " & x_{4} + x_{5} + x_{6} \\leq 500\\\\\n",
       " & x_{7} + x_{8} + x_{9} \\leq 325\\\\\n",
       " & x_{1} \\geq 0\\\\\n",
       " & x_{2} \\geq 0\\\\\n",
       " & x_{3} \\geq 0\\\\\n",
       " & x_{4} \\geq 0\\\\\n",
       " & x_{5} \\geq 0\\\\\n",
       " & x_{6} \\geq 0\\\\\n",
       " & x_{7} \\geq 0\\\\\n",
       " & x_{8} \\geq 0\\\\\n",
       " & x_{9} \\geq 0\\\\\n",
       "\\end{aligned} $$"
      ],
      "text/plain": [
       "$$ \\begin{aligned}\n",
       "\\max\\quad & 1000 x_{1} + 1000 x_{2} + 1000 x_{3} + 750 x_{4} + 750 x_{5} + 750 x_{6} + 250 x_{7} + 250 x_{8} + 250 x_{9}\\\\\n",
       "\\text{Subject to} \\quad & 3 x_{1} - 2 x_{2} + 3 x_{4} - 2 x_{5} + 3 x_{7} - 2 x_{8} = 0\\\\\n",
       " & x_{2} - 2 x_{3} + x_{5} - 2 x_{6} + x_{8} - 2 x_{9} = 0\\\\\n",
       " & -3 x_{1} + 4 x_{3} - 3 x_{4} + 4 x_{6} - 3 x_{7} + 4 x_{9} = 0\\\\\n",
       " & 3 x_{1} + 2 x_{4} + x_{7} \\leq 600\\\\\n",
       " & 3 x_{2} + 2 x_{5} + x_{8} \\leq 800\\\\\n",
       " & 3 x_{3} + 2 x_{6} + x_{9} \\leq 375\\\\\n",
       " & x_{1} + x_{4} + x_{7} \\leq 400\\\\\n",
       " & x_{2} + x_{5} + x_{8} \\leq 600\\\\\n",
       " & x_{3} + x_{6} + x_{9} \\leq 300\\\\\n",
       " & x_{1} + x_{2} + x_{3} \\leq 600\\\\\n",
       " & x_{4} + x_{5} + x_{6} \\leq 500\\\\\n",
       " & x_{7} + x_{8} + x_{9} \\leq 325\\\\\n",
       " & x_{1} \\geq 0\\\\\n",
       " & x_{2} \\geq 0\\\\\n",
       " & x_{3} \\geq 0\\\\\n",
       " & x_{4} \\geq 0\\\\\n",
       " & x_{5} \\geq 0\\\\\n",
       " & x_{6} \\geq 0\\\\\n",
       " & x_{7} \\geq 0\\\\\n",
       " & x_{8} \\geq 0\\\\\n",
       " & x_{9} \\geq 0\\\\\n",
       "\\end{aligned} $$"
      ]
     },
     "metadata": {},
     "output_type": "display_data"
    }
   ],
   "source": [
    "# Display the linear programming model with constraints\n",
    "latex_formulation(model)"
   ]
  },
  {
   "cell_type": "code",
   "execution_count": 51,
   "id": "6bc411a7",
   "metadata": {},
   "outputs": [
    {
     "name": "stdout",
     "output_type": "stream",
     "text": [
      "Running HiGHS 1.11.0 (git hash: 364c83a51e): Copyright (c) 2025 HiGHS under MIT licence terms\n",
      "LP   has 12 rows; 9 cols; 45 nonzeros\n",
      "Coefficient ranges:\n",
      "  Matrix [1e+00, 4e+00]\n",
      "  Cost   [2e+02, 1e+03]\n",
      "  Bound  [0e+00, 0e+00]\n",
      "  RHS    [3e+02, 8e+02]\n",
      "Presolving model\n",
      "11 rows, 9 cols, 42 nonzeros  0s\n",
      "Dependent equations search running on 3 equations with time limit of 1000.00s\n",
      "Dependent equations search removed 1 rows and 6 nonzeros in 0.00s (limit = 1000.00s)\n",
      "10 rows, 9 cols, 36 nonzeros  0s\n",
      "Presolve : Reductions: rows 10(-2); columns 9(-0); elements 36(-9)\n",
      "Solving the presolved LP\n",
      "Using EKK dual simplex solver - serial\n",
      "  Iteration        Objective     Infeasibilities num(sum)\n",
      "          0    -5.9999767255e+03 Ph1: 10(39); Du: 9(5999.98) 0s\n",
      "          6    -6.3333333333e+05 Pr: 0(0) 0s\n",
      "Solving the original LP from the solution after postsolve\n",
      "Model status        : Optimal\n",
      "Simplex   iterations: 6\n",
      "Objective value     :  6.3333333333e+05\n",
      "P-D objective error :  9.1906760463e-17\n",
      "HiGHS run time      :          0.00\n"
     ]
    }
   ],
   "source": [
    "# Finally, we solve the model\n",
    "optimize!(model)"
   ]
  },
  {
   "cell_type": "code",
   "execution_count": 52,
   "id": "6ce82217",
   "metadata": {},
   "outputs": [
    {
     "data": {
      "text/plain": [
       "solution_summary(; result = 1, verbose = true)\n",
       "├ solver_name          : HiGHS\n",
       "├ Termination\n",
       "│ ├ termination_status : OPTIMAL\n",
       "│ ├ result_count       : 1\n",
       "│ ├ raw_status         : kHighsModelStatusOptimal\n",
       "│ └ objective_bound    : 6.33333e+05\n",
       "├ Solution (result = 1)\n",
       "│ ├ primal_status        : FEASIBLE_POINT\n",
       "│ ├ dual_status          : FEASIBLE_POINT\n",
       "│ ├ objective_value      : 6.33333e+05\n",
       "│ ├ dual_objective_value : 6.33333e+05\n",
       "│ ├ relative_gap         : 1.83814e-16\n",
       "│ └ value\n",
       "│   ├ x[1] : 1.33333e+02\n",
       "│   ├ x[2] : 1.00000e+02\n",
       "│   ├ x[3] : 2.50000e+01\n",
       "│   ├ x[4] : 1.00000e+02\n",
       "│   ├ x[5] : 2.50000e+02\n",
       "│   ├ x[6] : 1.50000e+02\n",
       "│   ├ x[7] : 0.00000e+00\n",
       "│   ├ x[8] : 0.00000e+00\n",
       "│   └ x[9] : 0.00000e+00\n",
       "└ Work counters\n",
       "  ├ solve_time (sec)   : 8.95417e-04\n",
       "  ├ simplex_iterations : 6\n",
       "  ├ barrier_iterations : 0\n",
       "  └ node_count         : -1"
      ]
     },
     "metadata": {},
     "output_type": "display_data"
    }
   ],
   "source": [
    "solution_summary(model, verbose=true)"
   ]
  }
 ],
 "metadata": {
  "kernelspec": {
   "display_name": "Julia 1.11.7",
   "language": "julia",
   "name": "julia-1.11"
  },
  "language_info": {
   "file_extension": ".jl",
   "mimetype": "application/julia",
   "name": "julia",
   "version": "1.11.7"
  }
 },
 "nbformat": 4,
 "nbformat_minor": 5
}
