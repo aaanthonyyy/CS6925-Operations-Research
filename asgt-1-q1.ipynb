{
 "cells": [
  {
   "cell_type": "markdown",
   "id": "ef831c35",
   "metadata": {},
   "source": [
    "Rolfe wants to invest a sum of money that would generate an annual yield of at\n",
    "least$10,000. Two stock groups are available: bluechips and hightech, with average\n",
    "annual yields of 10% and 25%, respectively. Though high-tech stocks provide higher\n",
    "yield, they are more risky, and Rolfe wants to limit the amount invested in these\n",
    "stocks to no more than 60% of the total investment. What is the minimum amount\n",
    "Rolfe should invest in each stock group to accomplish the investment goal?"
   ]
  },
  {
   "cell_type": "markdown",
   "id": "e974f6cf",
   "metadata": {},
   "source": [
    "* Proportionality: Assuming that the return and cash outlay on a project is directly proportional to the amount of the project undertaken. \n",
    "* Additivity: The total return is the sum of the returns from each individual project, and the total cash outlay for a given year is the sum of the outlays for each project in that year.\n",
    "* Certainty: The expected (present value) returns and cash outlays for\n",
    "the projects remain constant.\n",
    "* Divisibility: Can undertake any of the projects partially or completely, so any real number between 0 and 1. "
   ]
  },
  {
   "cell_type": "code",
   "execution_count": 1,
   "id": "a9c344ca",
   "metadata": {},
   "outputs": [
    {
     "data": {
      "text/plain": [
       "A JuMP Model\n",
       "├ solver: HiGHS\n",
       "├ objective_sense: FEASIBILITY_SENSE\n",
       "├ num_variables: 0\n",
       "├ num_constraints: 0\n",
       "└ Names registered in the model: none"
      ]
     },
     "metadata": {},
     "output_type": "display_data"
    }
   ],
   "source": [
    "using JuMP, HiGHS\n",
    "\n",
    "model = Model(HiGHS.Optimizer)"
   ]
  },
  {
   "cell_type": "code",
   "execution_count": 2,
   "id": "902df5b6",
   "metadata": {},
   "outputs": [
    {
     "data": {
      "text/plain": [
       "2-element Vector{VariableRef}:\n",
       " x[1]\n",
       " x[2]"
      ]
     },
     "metadata": {},
     "output_type": "display_data"
    }
   ],
   "source": [
    "@variable(model, x[1:2] >= 0)"
   ]
  },
  {
   "cell_type": "code",
   "execution_count": null,
   "id": "cf10fb47",
   "metadata": {},
   "outputs": [],
   "source": [
    "@objective(model, Min, x[1] + x[2]);\n",
    "@constraint(model, 0.1x[1] + 0.25x[2] >= 10000);\n",
    "@constraint(model, x[2] <= .6*(x[1]+x[2]));"
   ]
  },
  {
   "cell_type": "code",
   "execution_count": 4,
   "id": "4a7fd99e",
   "metadata": {},
   "outputs": [
    {
     "data": {
      "text/latex": [
       "$$ \\begin{aligned}\n",
       "\\min\\quad & x_{1} + x_{2}\\\\\n",
       "\\text{Subject to} \\quad & 0.1 x_{1} + 0.25 x_{2} \\geq 10000\\\\\n",
       " & -0.6 x_{1} + 0.4 x_{2} \\leq 0\\\\\n",
       " & x_{1} \\geq 0\\\\\n",
       " & x_{2} \\geq 0\\\\\n",
       "\\end{aligned} $$"
      ],
      "text/plain": [
       "$$ \\begin{aligned}\n",
       "\\min\\quad & x_{1} + x_{2}\\\\\n",
       "\\text{Subject to} \\quad & 0.1 x_{1} + 0.25 x_{2} \\geq 10000\\\\\n",
       " & -0.6 x_{1} + 0.4 x_{2} \\leq 0\\\\\n",
       " & x_{1} \\geq 0\\\\\n",
       " & x_{2} \\geq 0\\\\\n",
       "\\end{aligned} $$"
      ]
     },
     "metadata": {},
     "output_type": "display_data"
    }
   ],
   "source": [
    "latex_formulation(model)"
   ]
  },
  {
   "cell_type": "code",
   "execution_count": 6,
   "id": "34ffcd7a",
   "metadata": {},
   "outputs": [
    {
     "name": "stdout",
     "output_type": "stream",
     "text": [
      "Running HiGHS 1.11.0 (git hash: 364c83a51e): Copyright (c) 2025 HiGHS under MIT licence terms\n",
      "LP   has 2 rows; 2 cols; 4 nonzeros\n",
      "Coefficient ranges:\n",
      "  Matrix [1e-01, 6e-01]\n",
      "  Cost   [1e+00, 1e+00]\n",
      "  Bound  [0e+00, 0e+00]\n",
      "  RHS    [1e+04, 1e+04]\n",
      "Presolving model\n",
      "2 rows, 2 cols, 4 nonzeros  0s\n",
      "2 rows, 2 cols, 4 nonzeros  0s\n",
      "Presolve : Reductions: rows 2(-0); columns 2(-0); elements 4(-0) - Not reduced\n",
      "Problem not reduced by presolve: solving the LP\n",
      "Using EKK dual simplex solver - serial\n",
      "  Iteration        Objective     Infeasibilities num(sum)\n",
      "          0     0.0000000000e+00 Pr: 1(20000) 0s\n",
      "          2     5.2631578947e+04 Pr: 0(0) 0s\n",
      "Model status        : Optimal\n",
      "Simplex   iterations: 2\n",
      "Objective value     :  5.2631578947e+04\n",
      "P-D objective error :  6.9120940686e-17\n",
      "HiGHS run time      :          0.00\n"
     ]
    }
   ],
   "source": [
    "optimize!(model)"
   ]
  },
  {
   "cell_type": "code",
   "execution_count": 7,
   "id": "26ce8869",
   "metadata": {},
   "outputs": [
    {
     "data": {
      "text/plain": [
       "solution_summary(; result = 1, verbose = false)\n",
       "├ solver_name          : HiGHS\n",
       "├ Termination\n",
       "│ ├ termination_status : OPTIMAL\n",
       "│ ├ result_count       : 1\n",
       "│ ├ raw_status         : kHighsModelStatusOptimal\n",
       "│ └ objective_bound    : 5.26316e+04\n",
       "├ Solution (result = 1)\n",
       "│ ├ primal_status        : FEASIBLE_POINT\n",
       "│ ├ dual_status          : FEASIBLE_POINT\n",
       "│ ├ objective_value      : 5.26316e+04\n",
       "│ ├ dual_objective_value : 5.26316e+04\n",
       "│ └ relative_gap         : 1.38243e-16\n",
       "└ Work counters\n",
       "  ├ solve_time (sec)   : 8.35333e-04\n",
       "  ├ simplex_iterations : 2\n",
       "  ├ barrier_iterations : 0\n",
       "  └ node_count         : -1"
      ]
     },
     "metadata": {},
     "output_type": "display_data"
    }
   ],
   "source": [
    "solution_summary(model)"
   ]
  },
  {
   "cell_type": "code",
   "execution_count": 28,
   "id": "537af632",
   "metadata": {},
   "outputs": [
    {
     "name": "stdout",
     "output_type": "stream",
     "text": [
      "Decision variables:\n",
      "bluechips = $21052.63\n",
      "hightech = $31578.95\n"
     ]
    }
   ],
   "source": [
    "println(\"Decision variables:\")\n",
    "for i in enumerate([\"bluechips\", \"hightech\"])\n",
    "    println(\"$(i[2]) = \\$$(round(value(x[i[1]]), digits=2))\")\n",
    "end\n",
    "\n"
   ]
  },
  {
   "cell_type": "markdown",
   "id": "2bb2cc01",
   "metadata": {},
   "source": [
    "> The Minimum objective value was found to be: $52631.58, meaning that is the least amount of money he must invest to accomplish the investment goal."
   ]
  }
 ],
 "metadata": {
  "kernelspec": {
   "display_name": "Julia 1.11.7",
   "language": "julia",
   "name": "julia-1.11"
  },
  "language_info": {
   "file_extension": ".jl",
   "mimetype": "application/julia",
   "name": "julia",
   "version": "1.11.7"
  }
 },
 "nbformat": 4,
 "nbformat_minor": 5
}
